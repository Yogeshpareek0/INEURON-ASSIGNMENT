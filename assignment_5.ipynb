{
 "cells": [
  {
   "cell_type": "markdown",
   "metadata": {},
   "source": [
    "# 1. What does an empty dictionary&#39;s code look like?"
   ]
  },
  {
   "cell_type": "code",
   "execution_count": 10,
   "metadata": {},
   "outputs": [
    {
     "name": "stdout",
     "output_type": "stream",
     "text": [
      "{} <class 'dict'>\n"
     ]
    }
   ],
   "source": [
    "dict_empty = {}\n",
    "print (dict,type(dict_empty))"
   ]
  },
  {
   "cell_type": "markdown",
   "metadata": {},
   "source": [
    "# 2. What is the value of a dictionary value with the key &#39;foo&#39; and the value 42?"
   ]
  },
  {
   "cell_type": "code",
   "execution_count": 80,
   "metadata": {},
   "outputs": [
    {
     "name": "stdout",
     "output_type": "stream",
     "text": [
      "42\n"
     ]
    }
   ],
   "source": [
    "dictionary = {'foo':42}\n",
    "for i in dictionary:\n",
    "    print (dictionary[i])"
   ]
  },
  {
   "cell_type": "code",
   "execution_count": 83,
   "metadata": {},
   "outputs": [
    {
     "name": "stdout",
     "output_type": "stream",
     "text": [
      "42\n"
     ]
    }
   ],
   "source": [
    "dictionary = {'foo':42}\n",
    "print (dictionary['foo'])"
   ]
  },
  {
   "cell_type": "markdown",
   "metadata": {},
   "source": [
    "# 3. What is the most significant distinction between a dictionary and a list?"
   ]
  },
  {
   "cell_type": "markdown",
   "metadata": {},
   "source": [
    "# ordering :-\n",
    "# list : lists maintain the order of elements as they are added.the first element added will have index 0,the second will have index 1,and so on.\n",
    "# dictionary : dictionary maintain key-value pairs.\n",
    "# duplicate :-\n",
    "# list : list can contain duplicate elements.\n",
    "# dictionart : dictionary can not containe duplicate key,if we try to add duplicate key to a dictionary ,it will overwrite the existing key-value pair.\n",
    "# Use Cases:\n",
    "# List: Lists are commonly used for ordered collections where the position of elements matters, such as sequences of items or when you need to maintain an ordered group of elements.\n",
    "# Dictionary: Dictionaries are used when you need to map unique keys to corresponding values. They are particularly useful when you want to quickly look up values based on specific keys without caring about their order."
   ]
  },
  {
   "cell_type": "markdown",
   "metadata": {},
   "source": [
    "# 4. What happens if you try to access spam['foo'] if spam is {'bar': 100}?"
   ]
  },
  {
   "cell_type": "markdown",
   "metadata": {},
   "source": [
    "# if we access any keys that are not available in the particular dictionary then this will give an error, named- 'KeyError'."
   ]
  },
  {
   "cell_type": "code",
   "execution_count": 103,
   "metadata": {},
   "outputs": [
    {
     "ename": "KeyError",
     "evalue": "'foo'",
     "output_type": "error",
     "traceback": [
      "\u001b[1;31m---------------------------------------------------------------------------\u001b[0m",
      "\u001b[1;31mKeyError\u001b[0m                                  Traceback (most recent call last)",
      "\u001b[1;32md:\\I-neuron assignment\\assignment_5.ipynb Cell 10\u001b[0m in \u001b[0;36m2\n\u001b[0;32m      <a href='vscode-notebook-cell:/d%3A/I-neuron%20assignment/assignment_5.ipynb#X24sZmlsZQ%3D%3D?line=0'>1</a>\u001b[0m spam \u001b[39m=\u001b[39m {\u001b[39m'\u001b[39m\u001b[39mbar\u001b[39m\u001b[39m'\u001b[39m:\u001b[39m100\u001b[39m}\n\u001b[1;32m----> <a href='vscode-notebook-cell:/d%3A/I-neuron%20assignment/assignment_5.ipynb#X24sZmlsZQ%3D%3D?line=1'>2</a>\u001b[0m \u001b[39mprint\u001b[39m (spam[\u001b[39m'\u001b[39;49m\u001b[39mfoo\u001b[39;49m\u001b[39m'\u001b[39;49m])\n",
      "\u001b[1;31mKeyError\u001b[0m: 'foo'"
     ]
    }
   ],
   "source": [
    "spam = {'bar':100}\n",
    "print (spam['foo'])"
   ]
  },
  {
   "cell_type": "code",
   "execution_count": 102,
   "metadata": {},
   "outputs": [
    {
     "name": "stdout",
     "output_type": "stream",
     "text": [
      "KeyError : 'foo'\n"
     ]
    }
   ],
   "source": [
    "spam = {'bar':100}\n",
    "try:\n",
    "    print (spam['foo'])\n",
    "except KeyError as e:\n",
    "    print (f'KeyError : {str(e)}')"
   ]
  },
  {
   "cell_type": "markdown",
   "metadata": {},
   "source": [
    "# 5. If a dictionary is stored in spam, what is the difference between the expressions &#39;cat&#39; in spam and 'cat' in spam.keys()?\n"
   ]
  },
  {
   "cell_type": "markdown",
   "metadata": {},
   "source": [
    "# both \"cat\" in spam and \"cat\" in spam.keys() will give same result. \"cat\" in spam direct check that \"cat\" is present in spam,if it is present in spam the result will be \"True\" else result will be\"False\", but key() object will iterate all key and after will check \"cat\" is present in keys if yes then it will also give result \"True\",else \"False\"."
   ]
  },
  {
   "cell_type": "code",
   "execution_count": 118,
   "metadata": {},
   "outputs": [
    {
     "name": "stdout",
     "output_type": "stream",
     "text": [
      "True\n",
      "....................\n",
      "True\n"
     ]
    }
   ],
   "source": [
    "spam = {'cat': 10,'dog':20}\n",
    "print ('cat' in spam)\n",
    "print ('....................')\n",
    "print ('cat' in spam.keys())\n"
   ]
  },
  {
   "cell_type": "markdown",
   "metadata": {},
   "source": [
    "# 6. If a dictionary is stored in spam, what is the difference between the expressions &#39;cat&#39; in spam and 'cat' in spam.values()?\n"
   ]
  },
  {
   "cell_type": "markdown",
   "metadata": {},
   "source": [
    "# \"cat\" in spam will check 'cat' is present or not in spam's key.\n",
    "# \"cat\" in spam.values() will check 'cat' is present or not in spam's value.\n",
    "# {'animal':'cat'}\n",
    "# in above dictionary 'animal' is a key while 'cat' is a value."
   ]
  },
  {
   "cell_type": "code",
   "execution_count": 125,
   "metadata": {},
   "outputs": [
    {
     "name": "stdout",
     "output_type": "stream",
     "text": [
      "False\n",
      "....................\n",
      "True\n"
     ]
    }
   ],
   "source": [
    "spam = {'anilmal':'cat'}\n",
    "print ('cat' in spam)\n",
    "print ('....................')\n",
    "print ('cat' in spam.values())"
   ]
  },
  {
   "cell_type": "markdown",
   "metadata": {},
   "source": [
    "# 7. What is a shortcut for the following code?\n",
    "# if 'color' not in spam:\n",
    "# spam['color'] = 'black'"
   ]
  },
  {
   "cell_type": "code",
   "execution_count": 134,
   "metadata": {},
   "outputs": [
    {
     "name": "stdout",
     "output_type": "stream",
     "text": [
      "{'name': 'yogesh', 'age': 26, 'color': 'red'}\n",
      "...................................................\n",
      "{'name': 'yogesh', 'age': 26, 'color': 'black'}\n"
     ]
    }
   ],
   "source": [
    "spam = {'name':'yogesh','age':26,'color':'red'}\n",
    "spam['color'] = spam.get('color', 'black')\n",
    "print (spam)\n",
    "print ('...................................................')\n",
    "spam = {'name':'yogesh','age':26}\n",
    "spam['color'] = spam.get('color', 'black')\n",
    "print (spam)"
   ]
  },
  {
   "cell_type": "markdown",
   "metadata": {},
   "source": [
    "# 8. How do you 'pretty print' dictionary values using which module and function?"
   ]
  },
  {
   "cell_type": "code",
   "execution_count": 147,
   "metadata": {},
   "outputs": [
    {
     "name": "stdout",
     "output_type": "stream",
     "text": [
      "[{'Age': '25', 'Country': 'china', 'Name': 'yogesh'},\n",
      " {'Age': '28', 'Country': 'india', 'Name': 'anil'},\n",
      " {'Age': '25', 'Country': 'USA', 'Name': 'goivnd'},\n",
      " {'Age': '33', 'Country': 'India', 'Name': 'prakash'},\n",
      " {'Age': '31', 'Country': 'India', 'Name': 'vikash'}]\n"
     ]
    }
   ],
   "source": [
    "import pprint\n",
    "dct = [ {'Name': 'yogesh', 'Age': '25', 'Country': 'china'},\n",
    "        {'Name': 'anil', 'Age': '28', 'Country': 'india'},\n",
    "        {'Name': 'goivnd', 'Age': '25', 'Country': 'USA'},\n",
    "        {'Name': 'prakash', 'Age': '33', 'Country': 'India'},\n",
    "        {'Name': 'vikash', 'Age': '31', 'Country': 'India'}\n",
    "        ]\n",
    "pprint.pprint(dct)\n"
   ]
  }
 ],
 "metadata": {
  "kernelspec": {
   "display_name": "Python 3",
   "language": "python",
   "name": "python3"
  },
  "language_info": {
   "codemirror_mode": {
    "name": "ipython",
    "version": 3
   },
   "file_extension": ".py",
   "mimetype": "text/x-python",
   "name": "python",
   "nbconvert_exporter": "python",
   "pygments_lexer": "ipython3",
   "version": "3.10.8"
  },
  "orig_nbformat": 4
 },
 "nbformat": 4,
 "nbformat_minor": 2
}
