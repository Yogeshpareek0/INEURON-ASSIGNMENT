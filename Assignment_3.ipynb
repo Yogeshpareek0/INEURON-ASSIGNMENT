{
 "cells": [
  {
   "cell_type": "markdown",
   "metadata": {},
   "source": [
    "# 1.Why are functions advantageous to have in your programs?"
   ]
  },
  {
   "cell_type": "markdown",
   "metadata": {},
   "source": [
    "## ans. \n",
    "## 1. Modularity and Code Organization\n",
    "## 2. Code Reusability\n",
    "## 3. Abstraction and Readability\n",
    "## 4. Information Hiding\n",
    "## 5. Code Maintenance"
   ]
  },
  {
   "cell_type": "markdown",
   "metadata": {},
   "source": [
    "# 2. When does the code in a function run: when it&#39;s specified or when it&#39;s called?"
   ]
  },
  {
   "cell_type": "markdown",
   "metadata": {},
   "source": [
    "## ans\n",
    "## The code inside function runs when the function is called, not when it is specified."
   ]
  },
  {
   "cell_type": "code",
   "execution_count": 4,
   "metadata": {},
   "outputs": [
    {
     "data": {
      "text/plain": [
       "'yogesh kumar pareek'"
      ]
     },
     "execution_count": 4,
     "metadata": {},
     "output_type": "execute_result"
    }
   ],
   "source": [
    "# define a function\n",
    "def print_name(name):\n",
    "    return name\n",
    "# function is defined but not executed\n",
    "print_name('yogesh kumar pareek')\n",
    "#when we call function, the function is execute."
   ]
  },
  {
   "cell_type": "markdown",
   "metadata": {},
   "source": [
    "# 3. What statement creates a function?"
   ]
  },
  {
   "cell_type": "markdown",
   "metadata": {},
   "source": [
    "## ans\n",
    "## A function is created using 'def' statement.The 'def' keyword stand for define and it is followed by the function name."
   ]
  },
  {
   "cell_type": "code",
   "execution_count": null,
   "metadata": {},
   "outputs": [],
   "source": [
    "# here \"def\" statement used for define 'print_name' function \n",
    "def print_name(name):\n",
    "    return name\n",
    "# function is defined but not executed\n",
    "print_name('yogesh kumar pareek')\n",
    "#when we call function, the function is execute."
   ]
  },
  {
   "cell_type": "markdown",
   "metadata": {},
   "source": [
    "# 4. What is the difference between a function and a function call?"
   ]
  },
  {
   "cell_type": "markdown",
   "metadata": {},
   "source": [
    "## ans\n",
    "## Function:-\n",
    "## A function is a block of code that performs a specific task or set of tasks.\n",
    "## It is defined using the def keyword.\n",
    "## Functions are essentially reusable code blocks that can be called multiple times from different parts of the program.\n",
    "## They typically take input values, perform some operations on them, and optionally return a result.\n",
    "## Function Call:-\n",
    "## A function call is the act of invoking or executing a function to perform its specified task.\n",
    "## When a function is called, the program transfers control to the function, and the code inside the function is executed.\n",
    "## Function calls are made by writing the function's name followed by parentheses, and any required arguments inside the parentheses if the function takes parameters."
   ]
  },
  {
   "cell_type": "code",
   "execution_count": 5,
   "metadata": {},
   "outputs": [
    {
     "data": {
      "text/plain": [
       "30"
      ]
     },
     "execution_count": 5,
     "metadata": {},
     "output_type": "execute_result"
    }
   ],
   "source": [
    "# function\n",
    "def add (a,b):\n",
    "    return a+b\n",
    "\n",
    "#function call\n",
    "add(10,20)"
   ]
  },
  {
   "cell_type": "markdown",
   "metadata": {},
   "source": [
    "# 5. How many global scopes are there in a Python program? How many local scopes?"
   ]
  },
  {
   "cell_type": "markdown",
   "metadata": {},
   "source": [
    "## Global Scope:--- There is one global scope in a Python program, which exists at the top-level and is accessible from anywhere in the program. Variables defined in the global scope are called global variables.\n",
    "\n",
    "## Local Scopes:--- The number of local scopes in a Python program depends on the number of functions that are called during program execution. Each time we define a function we can make a new local variable. Variables defined within the local scope of a function are called local variables."
   ]
  },
  {
   "cell_type": "code",
   "execution_count": 48,
   "metadata": {},
   "outputs": [
    {
     "name": "stdout",
     "output_type": "stream",
     "text": [
      "1st example\n",
      "['yogesh kumar pareek', 'anil pareek']\n",
      "2nd example\n",
      "it throws a NameError\n"
     ]
    }
   ],
   "source": [
    "# my_name is a global variable.we can access it anywhere.\n",
    "print ('1st example')\n",
    "my_name = 'yogesh kumar pareek'\n",
    "def print_new_name():\n",
    "    my_name_2 = 'anil pareek'\n",
    "    return [my_name , my_name_2]\n",
    "name = print_new_name()\n",
    "print (name)\n",
    "# here \"my_name\" is global variable and \"my_name_2\" is local variable for \"print_new_name\",we can access \"my_name\" all other function but we can not access \"my_name_2\" outside the \"print_new_name\".\n",
    "print ('2nd example')\n",
    "def newname():\n",
    "    try:\n",
    "            return [my_name , my_name_2]\n",
    "    except NameError:\n",
    "        print ('it throws a NameError')\n",
    "newname()\n",
    "# it give a error :- NameError: name 'my_name_2' is not defined\n"
   ]
  },
  {
   "cell_type": "markdown",
   "metadata": {},
   "source": [
    "# 6. What happens to variables in a local scope when the function call returns?"
   ]
  },
  {
   "cell_type": "markdown",
   "metadata": {},
   "source": [
    "## When a function call returns, the variables in the local scope of that function are destroyed, and the local scope itself is removed from memory. This process is known as \"cleanup\" or \"deallocation.\""
   ]
  },
  {
   "cell_type": "code",
   "execution_count": 62,
   "metadata": {},
   "outputs": [
    {
     "name": "stdout",
     "output_type": "stream",
     "text": [
      "local_variable\n",
      ".................\n",
      "Raises NameError: name 'local_variable' is not defined\n"
     ]
    }
   ],
   "source": [
    "def my_name():\n",
    "    local_variable = \"local_variable\"\n",
    "    return local_variable\n",
    "\n",
    "my_name = my_name()\n",
    "print (my_name)\n",
    "# After the function call returns, the local scope is removed,\n",
    "# and the variable local_variable is no longer accessible here.\n",
    "print ('.................')\n",
    "try:\n",
    "    print(\"Outside the function:\", local_variable)  # Raises NameError\n",
    "except NameError as e:\n",
    "    print (f'Raises NameError: {str(e)}')"
   ]
  },
  {
   "cell_type": "markdown",
   "metadata": {},
   "source": [
    "# 7. What is the concept of a return value? Is it possible to have a return value in an expression?"
   ]
  },
  {
   "cell_type": "markdown",
   "metadata": {},
   "source": [
    "## The concept of a return value in programming refers to the value that a function produces and sends back to the caller after the function is executed. When a function is called, it may perform a series of operations, and at the end of its execution, it can optionally return a result to the calling code."
   ]
  },
  {
   "cell_type": "code",
   "execution_count": 2,
   "metadata": {},
   "outputs": [
    {
     "name": "stdout",
     "output_type": "stream",
     "text": [
      "60\n"
     ]
    }
   ],
   "source": [
    "def addition(a,b):\n",
    "    return a+b\n",
    "add = addition(10,50)\n",
    "print (add)"
   ]
  },
  {
   "cell_type": "markdown",
   "metadata": {},
   "source": [
    "# 8. If a function does not have a return statement, what is the return value of a call to that function?"
   ]
  },
  {
   "cell_type": "markdown",
   "metadata": {},
   "source": [
    "## In python,If a function does not contain return statement,it will return automatically a special value called 'None'.When you call a function without a return statement in Python, the function will execute any statements it contains, but if it doesn't encounter a return statement, it will implicitly return None."
   ]
  },
  {
   "cell_type": "code",
   "execution_count": 11,
   "metadata": {},
   "outputs": [
    {
     "name": "stdout",
     "output_type": "stream",
     "text": [
      "30\n",
      "None\n"
     ]
    }
   ],
   "source": [
    "def  calculation(a,b):\n",
    "    sum = a+b\n",
    "    print (sum)\n",
    "sum = calculation(10,20)\n",
    "print (sum) #it will be return 'None'\n"
   ]
  },
  {
   "cell_type": "markdown",
   "metadata": {},
   "source": [
    "# 9. How do you make a function variable refer to the global variable?"
   ]
  },
  {
   "cell_type": "markdown",
   "metadata": {},
   "source": [
    "## if we want to make a function variable refer to a global variable, we can do so by using the global keyword. This keyword allows we to specify that a variable within a function should refer to the global variable with the same name, rather than creating a new local variable"
   ]
  },
  {
   "cell_type": "code",
   "execution_count": 24,
   "metadata": {},
   "outputs": [
    {
     "name": "stdout",
     "output_type": "stream",
     "text": [
      "20\n",
      "10\n"
     ]
    }
   ],
   "source": [
    "global_variable = 20\n",
    "def print_number():\n",
    "    global global_variable\n",
    "    global_variable = 10\n",
    "    return global_variable\n",
    "\n",
    "print (global_variable)\n",
    "# after function call\n",
    "print_number()\n",
    "print (global_variable)\n"
   ]
  },
  {
   "cell_type": "markdown",
   "metadata": {},
   "source": [
    "# 10. What is the data type of None?"
   ]
  },
  {
   "cell_type": "markdown",
   "metadata": {},
   "source": [
    "## In Python, the data type of None is called \"NoneType.\" It is a special data type that represents the absence of a value or a null value"
   ]
  },
  {
   "cell_type": "code",
   "execution_count": 25,
   "metadata": {},
   "outputs": [
    {
     "name": "stdout",
     "output_type": "stream",
     "text": [
      "<class 'NoneType'>\n"
     ]
    }
   ],
   "source": [
    "none_variable = None\n",
    "print (type(none_variable))"
   ]
  },
  {
   "cell_type": "markdown",
   "metadata": {},
   "source": [
    "# 11. What does the sentence import areallyourpetsnamederic do?"
   ]
  },
  {
   "cell_type": "markdown",
   "metadata": {},
   "source": [
    "##  when using the import statement in Python, the module you want to import must exist and be accessible from the location of your script or in one of the directories specified in the PYTHONPATH environment variable."
   ]
  },
  {
   "cell_type": "code",
   "execution_count": 29,
   "metadata": {},
   "outputs": [
    {
     "data": {
      "text/plain": [
       "5.0"
      ]
     },
     "execution_count": 29,
     "metadata": {},
     "output_type": "execute_result"
    }
   ],
   "source": [
    "# here the import statement is helping to access math module\n",
    "import math\n",
    "def sqrt_of_number(a):\n",
    "    sqr = math.sqrt(a)\n",
    "    return sqr\n",
    "sqrt_of_number(25)"
   ]
  },
  {
   "cell_type": "markdown",
   "metadata": {},
   "source": [
    "# 12. If you had a bacon() feature in a spam module, what would you call it after importing spam?"
   ]
  },
  {
   "cell_type": "markdown",
   "metadata": {},
   "source": [
    "## first we have to 'import' spam module and after we can call bacon function using module name with dot(.)."
   ]
  },
  {
   "cell_type": "code",
   "execution_count": 33,
   "metadata": {},
   "outputs": [
    {
     "name": "stdout",
     "output_type": "stream",
     "text": [
      "ModuleNotFoundError : No module named 'spam'\n"
     ]
    }
   ],
   "source": [
    "try:\n",
    "    # here we doing import spam module\n",
    "    import spam\n",
    "    # here we are calling bacon() feature,built-in of spam module\n",
    "    spam.bacon()\n",
    "except ModuleNotFoundError as e:\n",
    "    print (f'ModuleNotFoundError : {str(e)}')"
   ]
  },
  {
   "cell_type": "markdown",
   "metadata": {},
   "source": [
    "# 13. What can you do to save a programme from crashing if it encounters an error?"
   ]
  },
  {
   "cell_type": "markdown",
   "metadata": {},
   "source": [
    "## To prevent a program from crashing when it encounters an error, we can implement error handling techniques.in Python, the standard approach for error handling involves using try-except blocks."
   ]
  },
  {
   "cell_type": "code",
   "execution_count": 35,
   "metadata": {},
   "outputs": [
    {
     "name": "stdout",
     "output_type": "stream",
     "text": [
      "ZeroDivisionError : division by zero\n"
     ]
    }
   ],
   "source": [
    "num = 0\n",
    "try:\n",
    "    div = 10/num\n",
    "    print (div)\n",
    "except ZeroDivisionError as e:\n",
    "    print (f'ZeroDivisionError : {str(e)}')"
   ]
  },
  {
   "cell_type": "markdown",
   "metadata": {},
   "source": [
    "# 14. What is the purpose of the try clause? What is the purpose of the except clause?"
   ]
  },
  {
   "cell_type": "markdown",
   "metadata": {},
   "source": [
    "# purpose of 'try' clause:\n",
    "## The try clause is used to enclose the code that may raise exceptions. It allows you to specify a block of code where you anticipate potential errors. When Python encounters an exception within the try block, it immediately stops executing the rest of the try block and jumps to the appropriate except block to handle the exception.\n",
    "# Purpose of the except clause:\n",
    "## The except clause is used to define the code that should be executed when a specific exception occurs in the corresponding try block. It allows you to provide specific error handling and recovery strategies for different types of exceptions. You can have multiple except blocks to handle different types of exceptions that may arise."
   ]
  },
  {
   "cell_type": "code",
   "execution_count": 94,
   "metadata": {},
   "outputs": [
    {
     "name": "stdout",
     "output_type": "stream",
     "text": [
      "value error invalid literal for int() with base 10: 'f'\n"
     ]
    }
   ],
   "source": [
    "# if divide any number by zero then it will be throws ZeroDivisionError\n",
    "\n",
    "try:\n",
    "    \n",
    "    num1 = int(input('Enter first number'))\n",
    "    num2 = int(input('Enter second number'))\n",
    "    division = num1/num2\n",
    "    print (division)\n",
    "    \n",
    "except ZeroDivisionError as e:\n",
    "    print (f'ZeroDivisionError : {str(e)}')\n",
    "except ValueError as e:\n",
    "    print (f'value error {str(e)}') \n",
    "\n"
   ]
  }
 ],
 "metadata": {
  "kernelspec": {
   "display_name": "Python 3",
   "language": "python",
   "name": "python3"
  },
  "language_info": {
   "codemirror_mode": {
    "name": "ipython",
    "version": 3
   },
   "file_extension": ".py",
   "mimetype": "text/x-python",
   "name": "python",
   "nbconvert_exporter": "python",
   "pygments_lexer": "ipython3",
   "version": "3.10.8"
  },
  "orig_nbformat": 4
 },
 "nbformat": 4,
 "nbformat_minor": 2
}
