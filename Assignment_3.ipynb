{
 "cells": [
  {
   "cell_type": "markdown",
   "metadata": {},
   "source": [
    "# 1.Why are functions advantageous to have in your programs?"
   ]
  },
  {
   "cell_type": "markdown",
   "metadata": {},
   "source": [
    "# ans. \n",
    "# 1. Modularity and Code Organization\n",
    "# 2. Code Reusability\n",
    "# 3. Abstraction and Readability\n",
    "# 4. Information Hiding\n",
    "# 5. Code Maintenance"
   ]
  },
  {
   "cell_type": "markdown",
   "metadata": {},
   "source": [
    "# 2. When does the code in a function run: when it&#39;s specified or when it&#39;s called?"
   ]
  },
  {
   "cell_type": "markdown",
   "metadata": {},
   "source": [
    "# ans\n",
    "# The code inside function runs when the function is called, not when it is specified."
   ]
  },
  {
   "cell_type": "code",
   "execution_count": 4,
   "metadata": {},
   "outputs": [
    {
     "data": {
      "text/plain": [
       "'yogesh kumar pareek'"
      ]
     },
     "execution_count": 4,
     "metadata": {},
     "output_type": "execute_result"
    }
   ],
   "source": [
    "# define a function\n",
    "def print_name(name):\n",
    "    return name\n",
    "# function is defined but not executed\n",
    "print_name('yogesh kumar pareek')\n",
    "#when we call function, the function is execute."
   ]
  },
  {
   "cell_type": "markdown",
   "metadata": {},
   "source": [
    "# 3. What statement creates a function?"
   ]
  },
  {
   "cell_type": "markdown",
   "metadata": {},
   "source": [
    "# ans\n",
    "# A function is created using 'def' statement.The 'def' keyword stand for define and it is followed by the function name."
   ]
  },
  {
   "cell_type": "code",
   "execution_count": null,
   "metadata": {},
   "outputs": [],
   "source": [
    "# here \"def\" statement used for define 'print_name' function \n",
    "def print_name(name):\n",
    "    return name\n",
    "# function is defined but not executed\n",
    "print_name('yogesh kumar pareek')\n",
    "#when we call function, the function is execute."
   ]
  },
  {
   "cell_type": "markdown",
   "metadata": {},
   "source": [
    "# 4. What is the difference between a function and a function call?"
   ]
  },
  {
   "cell_type": "markdown",
   "metadata": {},
   "source": [
    "# ans\n",
    "# Function:-\n",
    "# A function is a block of code that performs a specific task or set of tasks.\n",
    "# It is defined using the def keyword.\n",
    "# Functions are essentially reusable code blocks that can be called multiple times from different parts of the program.\n",
    "# They typically take input values, perform some operations on them, and optionally return a result.\n",
    "# Function Call:-\n",
    "# A function call is the act of invoking or executing a function to perform its specified task.\n",
    "# When a function is called, the program transfers control to the function, and the code inside the function is executed.\n",
    "# Function calls are made by writing the function's name followed by parentheses, and any required arguments inside the parentheses if the function takes parameters."
   ]
  },
  {
   "cell_type": "code",
   "execution_count": 5,
   "metadata": {},
   "outputs": [
    {
     "data": {
      "text/plain": [
       "30"
      ]
     },
     "execution_count": 5,
     "metadata": {},
     "output_type": "execute_result"
    }
   ],
   "source": [
    "# function\n",
    "def add (a,b):\n",
    "    return a+b\n",
    "\n",
    "#function call\n",
    "add(10,20)"
   ]
  },
  {
   "cell_type": "markdown",
   "metadata": {},
   "source": [
    "# 5. How many global scopes are there in a Python program? How many local scopes?"
   ]
  },
  {
   "cell_type": "markdown",
   "metadata": {},
   "source": [
    "# Global Scope:--- There is one global scope in a Python program, which exists at the top-level and is accessible from anywhere in the program. Variables defined in the global scope are called global variables.\n",
    "\n",
    "# Local Scopes:--- The number of local scopes in a Python program depends on the number of functions that are called during program execution. Each time we define a function we can make a new local variable. Variables defined within the local scope of a function are called local variables."
   ]
  },
  {
   "cell_type": "code",
   "execution_count": 48,
   "metadata": {},
   "outputs": [
    {
     "name": "stdout",
     "output_type": "stream",
     "text": [
      "1st example\n",
      "['yogesh kumar pareek', 'anil pareek']\n",
      "2nd example\n",
      "it throws a NameError\n"
     ]
    }
   ],
   "source": [
    "# my_name is a global variable.we can access it anywhere.\n",
    "print ('1st example')\n",
    "my_name = 'yogesh kumar pareek'\n",
    "def print_new_name():\n",
    "    my_name_2 = 'anil pareek'\n",
    "    return [my_name , my_name_2]\n",
    "name = print_new_name()\n",
    "print (name)\n",
    "# here \"my_name\" is global variable and \"my_name_2\" is local variable for \"print_new_name\",we can access \"my_name\" all other function but we can not access \"my_name_2\" outside the \"print_new_name\".\n",
    "print ('2nd example')\n",
    "def newname():\n",
    "    try:\n",
    "            return [my_name , my_name_2]\n",
    "    except NameError:\n",
    "        print ('it throws a NameError')\n",
    "newname()\n",
    "# it give a error :- NameError: name 'my_name_2' is not defined\n"
   ]
  },
  {
   "cell_type": "markdown",
   "metadata": {},
   "source": [
    "# 6. What happens to variables in a local scope when the function call returns?"
   ]
  },
  {
   "cell_type": "markdown",
   "metadata": {},
   "source": [
    "# When a function call returns, the variables in the local scope of that function are destroyed, and the local scope itself is removed from memory. This process is known as \"cleanup\" or \"deallocation.\""
   ]
  },
  {
   "cell_type": "code",
   "execution_count": 62,
   "metadata": {},
   "outputs": [
    {
     "name": "stdout",
     "output_type": "stream",
     "text": [
      "local_variable\n",
      ".................\n",
      "Raises NameError: name 'local_variable' is not defined\n"
     ]
    }
   ],
   "source": [
    "def my_name():\n",
    "    local_variable = \"local_variable\"\n",
    "    return local_variable\n",
    "\n",
    "my_name = my_name()\n",
    "print (my_name)\n",
    "# After the function call returns, the local scope is removed,\n",
    "# and the variable local_variable is no longer accessible here.\n",
    "print ('.................')\n",
    "try:\n",
    "    print(\"Outside the function:\", local_variable)  # Raises NameError\n",
    "except NameError as e:\n",
    "    print (f'Raises NameError: {str(e)}')"
   ]
  },
  {
   "cell_type": "markdown",
   "metadata": {},
   "source": [
    "# 7. What is the concept of a return value? Is it possible to have a return value in an expression?"
   ]
  },
  {
   "cell_type": "markdown",
   "metadata": {},
   "source": [
    "# The concept of a return value in programming refers to the value that a function produces and sends back to the caller after the function is executed. When a function is called, it may perform a series of operations, and at the end of its execution, it can optionally return a result to the calling code."
   ]
  },
  {
   "cell_type": "code",
   "execution_count": 2,
   "metadata": {},
   "outputs": [
    {
     "name": "stdout",
     "output_type": "stream",
     "text": [
      "60\n"
     ]
    }
   ],
   "source": [
    "def addition(a,b):\n",
    "    return a+b\n",
    "add = addition(10,50)\n",
    "print (add)"
   ]
  }
 ],
 "metadata": {
  "kernelspec": {
   "display_name": "Python 3",
   "language": "python",
   "name": "python3"
  },
  "language_info": {
   "codemirror_mode": {
    "name": "ipython",
    "version": 3
   },
   "file_extension": ".py",
   "mimetype": "text/x-python",
   "name": "python",
   "nbconvert_exporter": "python",
   "pygments_lexer": "ipython3",
   "version": "3.10.8"
  },
  "orig_nbformat": 4
 },
 "nbformat": 4,
 "nbformat_minor": 2
}
